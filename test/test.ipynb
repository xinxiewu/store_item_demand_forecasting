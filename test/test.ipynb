{
 "cells": [
  {
   "cell_type": "code",
   "execution_count": 35,
   "metadata": {},
   "outputs": [],
   "source": [
    "import pandas as pd\n",
    "import matplotlib.pyplot as plt\n",
    "import seaborn as sns"
   ]
  },
  {
   "cell_type": "code",
   "execution_count": 95,
   "metadata": {},
   "outputs": [
    {
     "data": {
      "text/html": [
       "<div>\n",
       "<style scoped>\n",
       "    .dataframe tbody tr th:only-of-type {\n",
       "        vertical-align: middle;\n",
       "    }\n",
       "\n",
       "    .dataframe tbody tr th {\n",
       "        vertical-align: top;\n",
       "    }\n",
       "\n",
       "    .dataframe thead th {\n",
       "        text-align: right;\n",
       "    }\n",
       "</style>\n",
       "<table border=\"1\" class=\"dataframe\">\n",
       "  <thead>\n",
       "    <tr style=\"text-align: right;\">\n",
       "      <th></th>\n",
       "      <th>date</th>\n",
       "      <th>store</th>\n",
       "      <th>item</th>\n",
       "      <th>sales</th>\n",
       "      <th>year</th>\n",
       "      <th>month</th>\n",
       "    </tr>\n",
       "  </thead>\n",
       "  <tbody>\n",
       "    <tr>\n",
       "      <th>0</th>\n",
       "      <td>2013-01-01</td>\n",
       "      <td>1</td>\n",
       "      <td>1</td>\n",
       "      <td>13</td>\n",
       "      <td>2013</td>\n",
       "      <td>2013-01</td>\n",
       "    </tr>\n",
       "  </tbody>\n",
       "</table>\n",
       "</div>"
      ],
      "text/plain": [
       "         date  store  item  sales  year    month\n",
       "0  2013-01-01      1     1     13  2013  2013-01"
      ]
     },
     "execution_count": 95,
     "metadata": {},
     "output_type": "execute_result"
    }
   ],
   "source": [
    "df = pd.read_csv('storedata.csv')\n",
    "# df['year'] = pd.to_datetime(df['date']).dt.strftime('%Y')\n",
    "# df['month'] = pd.to_datetime(df['date']).dt.strftime('%Y-%m')\n",
    "df['year'] = df['date'].apply(lambda x: str(x)[:4])\n",
    "df['month'] = df['date'].apply(lambda x: str(x)[:7])\n",
    "df.head(1)"
   ]
  },
  {
   "cell_type": "code",
   "execution_count": 100,
   "metadata": {},
   "outputs": [
    {
     "name": "stderr",
     "output_type": "stream",
     "text": [
      "C:\\Users\\Xinxie Wu\\AppData\\Local\\Temp\\ipykernel_16088\\3309968343.py:8: UserWarning: FixedFormatter should only be used together with FixedLocator\n",
      "  temp.set_xticklabels(temp.get_xticklabels(), rotation=30)\n"
     ]
    },
    {
     "data": {
      "text/plain": [
       "[Text(0, 0, '2013'),\n",
       " Text(1, 0, '2014'),\n",
       " Text(2, 0, '2015'),\n",
       " Text(3, 0, '2016'),\n",
       " Text(4, 0, '2017')]"
      ]
     },
     "execution_count": 100,
     "metadata": {},
     "output_type": "execute_result"
    }
   ],
   "source": [
    "sns.set()\n",
    "period, cat = 'year', 'sales'\n",
    "data_df = df[[period, cat]].groupby(by=[period]).sum().reset_index()\n",
    "data_df[cat] = data_df[cat].apply(lambda x: format(x/1000000, '.2f'))\n",
    "temp = sns.lineplot(data=data_df, x=period, y=cat)\n",
    "# temp.invert_yaxis()\n",
    "temp.set(xlabel=period, ylabel=f\"{cat} (M)\", title=f\"{cat.capitalize()} Trend by {period.capitalize()} (M)\")\n",
    "temp.set_xticklabels(temp.get_xticklabels(), rotation=30)"
   ]
  },
  {
   "cell_type": "code",
   "execution_count": 101,
   "metadata": {},
   "outputs": [
    {
     "data": {
      "text/plain": [
       "<AxesSubplot: title={'center': 'Sales Trend by Year (M)'}, xlabel='year', ylabel='sales (M)'>"
      ]
     },
     "execution_count": 101,
     "metadata": {},
     "output_type": "execute_result"
    }
   ],
   "source": [
    "sns.lineplot(data=data_df, x=period, y=cat)"
   ]
  },
  {
   "cell_type": "code",
   "execution_count": 96,
   "metadata": {},
   "outputs": [
    {
     "data": {
      "text/html": [
       "<div>\n",
       "<style scoped>\n",
       "    .dataframe tbody tr th:only-of-type {\n",
       "        vertical-align: middle;\n",
       "    }\n",
       "\n",
       "    .dataframe tbody tr th {\n",
       "        vertical-align: top;\n",
       "    }\n",
       "\n",
       "    .dataframe thead th {\n",
       "        text-align: right;\n",
       "    }\n",
       "</style>\n",
       "<table border=\"1\" class=\"dataframe\">\n",
       "  <thead>\n",
       "    <tr style=\"text-align: right;\">\n",
       "      <th></th>\n",
       "      <th>year</th>\n",
       "      <th>sales</th>\n",
       "      <th>growth</th>\n",
       "    </tr>\n",
       "  </thead>\n",
       "  <tbody>\n",
       "    <tr>\n",
       "      <th>1</th>\n",
       "      <td>2014</td>\n",
       "      <td>9135482</td>\n",
       "      <td>13.07%</td>\n",
       "    </tr>\n",
       "    <tr>\n",
       "      <th>2</th>\n",
       "      <td>2015</td>\n",
       "      <td>9536887</td>\n",
       "      <td>4.21%</td>\n",
       "    </tr>\n",
       "    <tr>\n",
       "      <th>3</th>\n",
       "      <td>2016</td>\n",
       "      <td>10357160</td>\n",
       "      <td>7.92%</td>\n",
       "    </tr>\n",
       "    <tr>\n",
       "      <th>4</th>\n",
       "      <td>2017</td>\n",
       "      <td>10733740</td>\n",
       "      <td>3.51%</td>\n",
       "    </tr>\n",
       "  </tbody>\n",
       "</table>\n",
       "</div>"
      ],
      "text/plain": [
       "   year     sales  growth\n",
       "1  2014   9135482  13.07%\n",
       "2  2015   9536887   4.21%\n",
       "3  2016  10357160   7.92%\n",
       "4  2017  10733740   3.51%"
      ]
     },
     "execution_count": 96,
     "metadata": {},
     "output_type": "execute_result"
    }
   ],
   "source": [
    "cat, period, variable = 'growth', 'year', 'sales'\n",
    "temp = df[[period, variable]].groupby(by=[period]).sum().reset_index()\n",
    "temp[cat] = (temp[variable].diff()/temp[variable])\n",
    "temp.dropna(inplace=True)\n",
    "# temp = temp.reset_index()\n",
    "temp[cat] = temp[cat].apply(lambda x: format(x, '.2%'))\n",
    "# temp['sales_dif'] = temp['sales'].diff()\n",
    "# temp['dif_rate'] = temp['sales'].diff() / temp['sales']\n",
    "# temp.dropna(inplace=True)\n",
    "# temp['dif_rate'] = temp['dif_rate'].apply(lambda x: format(x, '.2%'))\n",
    "temp"
   ]
  },
  {
   "cell_type": "code",
   "execution_count": 94,
   "metadata": {},
   "outputs": [
    {
     "data": {
      "text/plain": [
       "pandas.core.frame.DataFrame"
      ]
     },
     "execution_count": 94,
     "metadata": {},
     "output_type": "execute_result"
    }
   ],
   "source": [
    "type(temp)"
   ]
  },
  {
   "cell_type": "code",
   "execution_count": 97,
   "metadata": {},
   "outputs": [
    {
     "data": {
      "image/png": "[encoded data removed]",
      "text/plain": [
       "<Figure size 640x480 with 1 Axes>"
      ]
     },
     "metadata": {},
     "output_type": "display_data"
    }
   ],
   "source": [
    "# plt.figure(figsize=(15,8))\n",
    "sns.reset_defaults()\n",
    "sns.lineplot(data=temp, x=period, y=cat)\n",
    "# test.invert_yaxis()\n",
    "plt.xticks(rotation=90)\n",
    "plt.show()"
   ]
  }
 ],
 "metadata": {
  "kernelspec": {
   "display_name": "Python 3",
   "language": "python",
   "name": "python3"
  },
  "language_info": {
   "codemirror_mode": {
    "name": "ipython",
    "version": 3
   },
   "file_extension": ".py",
   "mimetype": "text/x-python",
   "name": "python",
   "nbconvert_exporter": "python",
   "pygments_lexer": "ipython3",
   "version": "3.10.9"
  },
  "orig_nbformat": 4
 },
 "nbformat": 4,
 "nbformat_minor": 2
}
