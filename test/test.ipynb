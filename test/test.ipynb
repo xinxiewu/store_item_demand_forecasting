{
 "cells": [
  {
   "cell_type": "code",
   "execution_count": 24,
   "metadata": {},
   "outputs": [],
   "source": [
    "import pandas as pd\n",
    "from statsmodels.tsa.arima.model import ARIMA\n",
    "import warnings\n",
    "warnings.filterwarnings(\"ignore\")"
   ]
  },
  {
   "cell_type": "code",
   "execution_count": 25,
   "metadata": {},
   "outputs": [
    {
     "data": {
      "text/html": [
       "<div>\n",
       "<style scoped>\n",
       "    .dataframe tbody tr th:only-of-type {\n",
       "        vertical-align: middle;\n",
       "    }\n",
       "\n",
       "    .dataframe tbody tr th {\n",
       "        vertical-align: top;\n",
       "    }\n",
       "\n",
       "    .dataframe thead th {\n",
       "        text-align: right;\n",
       "    }\n",
       "</style>\n",
       "<table border=\"1\" class=\"dataframe\">\n",
       "  <thead>\n",
       "    <tr style=\"text-align: right;\">\n",
       "      <th></th>\n",
       "      <th>month</th>\n",
       "      <th>sales</th>\n",
       "      <th>sales_log</th>\n",
       "      <th>sales_diff</th>\n",
       "      <th>sales_diff2</th>\n",
       "      <th>growth</th>\n",
       "      <th>log_growth</th>\n",
       "    </tr>\n",
       "  </thead>\n",
       "  <tbody>\n",
       "    <tr>\n",
       "      <th>0</th>\n",
       "      <td>2013-01</td>\n",
       "      <td>454904</td>\n",
       "      <td>18.795203</td>\n",
       "      <td>NaN</td>\n",
       "      <td>NaN</td>\n",
       "      <td>NaN</td>\n",
       "      <td>NaN</td>\n",
       "    </tr>\n",
       "    <tr>\n",
       "      <th>1</th>\n",
       "      <td>2013-02</td>\n",
       "      <td>459417</td>\n",
       "      <td>18.809445</td>\n",
       "      <td>4513.0</td>\n",
       "      <td>NaN</td>\n",
       "      <td>0.009921</td>\n",
       "      <td>0.000758</td>\n",
       "    </tr>\n",
       "    <tr>\n",
       "      <th>2</th>\n",
       "      <td>2013-03</td>\n",
       "      <td>617382</td>\n",
       "      <td>19.235804</td>\n",
       "      <td>157965.0</td>\n",
       "      <td>153452.0</td>\n",
       "      <td>0.343838</td>\n",
       "      <td>0.022667</td>\n",
       "    </tr>\n",
       "    <tr>\n",
       "      <th>3</th>\n",
       "      <td>2013-04</td>\n",
       "      <td>682274</td>\n",
       "      <td>19.379992</td>\n",
       "      <td>64892.0</td>\n",
       "      <td>-93073.0</td>\n",
       "      <td>0.105108</td>\n",
       "      <td>0.007496</td>\n",
       "    </tr>\n",
       "    <tr>\n",
       "      <th>4</th>\n",
       "      <td>2013-05</td>\n",
       "      <td>763242</td>\n",
       "      <td>19.541781</td>\n",
       "      <td>80968.0</td>\n",
       "      <td>16076.0</td>\n",
       "      <td>0.118674</td>\n",
       "      <td>0.008348</td>\n",
       "    </tr>\n",
       "  </tbody>\n",
       "</table>\n",
       "</div>"
      ],
      "text/plain": [
       "     month   sales  sales_log  sales_diff  sales_diff2    growth  log_growth\n",
       "0  2013-01  454904  18.795203         NaN          NaN       NaN         NaN\n",
       "1  2013-02  459417  18.809445      4513.0          NaN  0.009921    0.000758\n",
       "2  2013-03  617382  19.235804    157965.0     153452.0  0.343838    0.022667\n",
       "3  2013-04  682274  19.379992     64892.0     -93073.0  0.105108    0.007496\n",
       "4  2013-05  763242  19.541781     80968.0      16076.0  0.118674    0.008348"
      ]
     },
     "execution_count": 25,
     "metadata": {},
     "output_type": "execute_result"
    }
   ],
   "source": [
    "df = pd.read_csv('storedata.csv')\n",
    "df.head()"
   ]
  },
  {
   "cell_type": "code",
   "execution_count": 35,
   "metadata": {},
   "outputs": [
    {
     "data": {
      "text/html": [
       "<div>\n",
       "<style scoped>\n",
       "    .dataframe tbody tr th:only-of-type {\n",
       "        vertical-align: middle;\n",
       "    }\n",
       "\n",
       "    .dataframe tbody tr th {\n",
       "        vertical-align: top;\n",
       "    }\n",
       "\n",
       "    .dataframe thead th {\n",
       "        text-align: right;\n",
       "    }\n",
       "</style>\n",
       "<table border=\"1\" class=\"dataframe\">\n",
       "  <thead>\n",
       "    <tr style=\"text-align: right;\">\n",
       "      <th></th>\n",
       "      <th>variable</th>\n",
       "      <th>p</th>\n",
       "      <th>d</th>\n",
       "      <th>q</th>\n",
       "      <th>AIC</th>\n",
       "      <th>BIC</th>\n",
       "    </tr>\n",
       "  </thead>\n",
       "  <tbody>\n",
       "    <tr>\n",
       "      <th>0</th>\n",
       "      <td>sales</td>\n",
       "      <td>1</td>\n",
       "      <td>1</td>\n",
       "      <td>1</td>\n",
       "      <td>1484.280478</td>\n",
       "      <td>1490.409631</td>\n",
       "    </tr>\n",
       "    <tr>\n",
       "      <th>1</th>\n",
       "      <td>sales</td>\n",
       "      <td>1</td>\n",
       "      <td>1</td>\n",
       "      <td>2</td>\n",
       "      <td>1457.018369</td>\n",
       "      <td>1465.190574</td>\n",
       "    </tr>\n",
       "    <tr>\n",
       "      <th>2</th>\n",
       "      <td>sales</td>\n",
       "      <td>1</td>\n",
       "      <td>2</td>\n",
       "      <td>1</td>\n",
       "      <td>1468.147472</td>\n",
       "      <td>1474.223527</td>\n",
       "    </tr>\n",
       "    <tr>\n",
       "      <th>3</th>\n",
       "      <td>sales</td>\n",
       "      <td>1</td>\n",
       "      <td>2</td>\n",
       "      <td>2</td>\n",
       "      <td>1457.202940</td>\n",
       "      <td>1465.304347</td>\n",
       "    </tr>\n",
       "    <tr>\n",
       "      <th>4</th>\n",
       "      <td>sales</td>\n",
       "      <td>1</td>\n",
       "      <td>3</td>\n",
       "      <td>1</td>\n",
       "      <td>1455.759454</td>\n",
       "      <td>1461.781453</td>\n",
       "    </tr>\n",
       "  </tbody>\n",
       "</table>\n",
       "</div>"
      ],
      "text/plain": [
       "  variable  p  d  q          AIC          BIC\n",
       "0    sales  1  1  1  1484.280478  1490.409631\n",
       "1    sales  1  1  2  1457.018369  1465.190574\n",
       "2    sales  1  2  1  1468.147472  1474.223527\n",
       "3    sales  1  2  2  1457.202940  1465.304347\n",
       "4    sales  1  3  1  1455.759454  1461.781453"
      ]
     },
     "execution_count": 35,
     "metadata": {},
     "output_type": "execute_result"
    }
   ],
   "source": [
    "df = pd.read_csv('model_res.csv')\n",
    "df.head()"
   ]
  },
  {
   "cell_type": "code",
   "execution_count": 37,
   "metadata": {},
   "outputs": [],
   "source": [
    "aic = df[df['AIC']==min(df['AIC'])]"
   ]
  },
  {
   "cell_type": "code",
   "execution_count": 48,
   "metadata": {},
   "outputs": [
    {
     "data": {
      "text/plain": [
       "31    sales_log\n",
       "Name: variable, dtype: object"
      ]
     },
     "execution_count": 48,
     "metadata": {},
     "output_type": "execute_result"
    }
   ],
   "source": [
    "aic.variable"
   ]
  },
  {
   "cell_type": "code",
   "execution_count": 31,
   "metadata": {},
   "outputs": [],
   "source": [
    "def MyARIMA(df=None, col=None, p=None, d=None, q=None):\n",
    "    \"\"\" Generate ADF Test Result\n",
    "\n",
    "    Args:\n",
    "        df: input dataframe\n",
    "\n",
    "    Returns:\n",
    "        dataframe\n",
    "    \"\"\"\n",
    "    temp = df.dropna()\n",
    "    model = ARIMA(getattr(temp, col), order=(p, d, q))\n",
    "    res = model.fit()\n",
    "    return pd.DataFrame({'variable': col, 'p': p, 'd': d, 'q': q, 'AIC': res.aic, 'BIC': res.bic}, index=[0])"
   ]
  },
  {
   "cell_type": "code",
   "execution_count": 34,
   "metadata": {},
   "outputs": [
    {
     "name": "stdout",
     "output_type": "stream",
     "text": [
      "sales, 1, 1, 1\n",
      "sales, 1, 1, 2\n",
      "sales, 1, 2, 1\n",
      "sales, 1, 2, 2\n",
      "sales, 1, 3, 1\n",
      "sales, 1, 3, 2\n",
      "sales, 2, 1, 1\n",
      "sales, 2, 1, 2\n",
      "sales, 2, 2, 1\n",
      "sales, 2, 2, 2\n",
      "sales, 2, 3, 1\n",
      "sales, 2, 3, 2\n",
      "sales, 3, 1, 1\n",
      "sales, 3, 1, 2\n",
      "sales, 3, 2, 1\n",
      "sales, 3, 2, 2\n",
      "sales, 3, 3, 1\n",
      "sales, 3, 3, 2\n",
      "sales_log, 1, 1, 1\n",
      "sales_log, 1, 1, 2\n",
      "sales_log, 1, 2, 1\n",
      "sales_log, 1, 2, 2\n",
      "sales_log, 1, 3, 1\n",
      "sales_log, 1, 3, 2\n",
      "sales_log, 2, 1, 1\n",
      "sales_log, 2, 1, 2\n",
      "sales_log, 2, 2, 1\n",
      "sales_log, 2, 2, 2\n",
      "sales_log, 2, 3, 1\n",
      "sales_log, 2, 3, 2\n",
      "sales_log, 3, 1, 1\n",
      "sales_log, 3, 1, 2\n",
      "sales_log, 3, 2, 1\n",
      "sales_log, 3, 2, 2\n",
      "sales_log, 3, 3, 1\n",
      "sales_log, 3, 3, 2\n",
      "sales_diff2, 1, 1, 1\n",
      "sales_diff2, 1, 1, 2\n",
      "sales_diff2, 1, 2, 1\n",
      "sales_diff2, 1, 2, 2\n",
      "sales_diff2, 1, 3, 1\n",
      "sales_diff2, 1, 3, 2\n",
      "sales_diff2, 2, 1, 1\n",
      "sales_diff2, 2, 1, 2\n",
      "sales_diff2, 2, 2, 1\n",
      "sales_diff2, 2, 2, 2\n",
      "sales_diff2, 2, 3, 1\n",
      "sales_diff2, 2, 3, 2\n",
      "sales_diff2, 3, 1, 1\n",
      "sales_diff2, 3, 1, 2\n",
      "sales_diff2, 3, 2, 1\n",
      "sales_diff2, 3, 2, 2\n",
      "sales_diff2, 3, 3, 1\n",
      "sales_diff2, 3, 3, 2\n"
     ]
    }
   ],
   "source": [
    "cols, ps, ds, qs = ['sales', 'sales_log', 'sales_diff2'], [1, 2, 3], [1, 2, 3], [1, 2]\n",
    "for col in cols:\n",
    "    for p in ps:\n",
    "        for d in ds:\n",
    "            for q in qs:\n",
    "                print(f\"{col}, {p}, {d}, {q}\")\n",
    "                res=MyARIMA(df=df, col=col, p=p, d=d, q=q)"
   ]
  },
  {
   "cell_type": "code",
   "execution_count": 29,
   "metadata": {},
   "outputs": [],
   "source": [
    "res = MyARIMA(df=df,col='sales',p=1,d=1,q=1)"
   ]
  },
  {
   "cell_type": "code",
   "execution_count": 30,
   "metadata": {},
   "outputs": [
    {
     "data": {
      "text/html": [
       "<div>\n",
       "<style scoped>\n",
       "    .dataframe tbody tr th:only-of-type {\n",
       "        vertical-align: middle;\n",
       "    }\n",
       "\n",
       "    .dataframe tbody tr th {\n",
       "        vertical-align: top;\n",
       "    }\n",
       "\n",
       "    .dataframe thead th {\n",
       "        text-align: right;\n",
       "    }\n",
       "</style>\n",
       "<table border=\"1\" class=\"dataframe\">\n",
       "  <thead>\n",
       "    <tr style=\"text-align: right;\">\n",
       "      <th></th>\n",
       "      <th>variable</th>\n",
       "      <th>p</th>\n",
       "      <th>d</th>\n",
       "      <th>q</th>\n",
       "      <th>AIC</th>\n",
       "      <th>BIC</th>\n",
       "    </tr>\n",
       "  </thead>\n",
       "  <tbody>\n",
       "    <tr>\n",
       "      <th>0</th>\n",
       "      <td>sales</td>\n",
       "      <td>1</td>\n",
       "      <td>1</td>\n",
       "      <td>1</td>\n",
       "      <td>1536.41115</td>\n",
       "      <td>1542.643762</td>\n",
       "    </tr>\n",
       "  </tbody>\n",
       "</table>\n",
       "</div>"
      ],
      "text/plain": [
       "  variable  p  d  q         AIC          BIC\n",
       "0    sales  1  1  1  1536.41115  1542.643762"
      ]
     },
     "execution_count": 30,
     "metadata": {},
     "output_type": "execute_result"
    }
   ],
   "source": [
    "res"
   ]
  },
  {
   "cell_type": "code",
   "execution_count": 22,
   "metadata": {},
   "outputs": [
    {
     "ename": "AttributeError",
     "evalue": "type object 'ARMAResults' has no attribute 'summary'",
     "output_type": "error",
     "traceback": [
      "\u001b[1;31m---------------------------------------------------------------------------\u001b[0m",
      "\u001b[1;31mAttributeError\u001b[0m                            Traceback (most recent call last)",
      "Cell \u001b[1;32mIn[22], line 1\u001b[0m\n\u001b[1;32m----> 1\u001b[0m ARMAResults\u001b[39m.\u001b[39;49msummary(res)\n",
      "\u001b[1;31mAttributeError\u001b[0m: type object 'ARMAResults' has no attribute 'summary'"
     ]
    }
   ],
   "source": [
    "ARMAResults.summary(res)"
   ]
  },
  {
   "cell_type": "code",
   "execution_count": 11,
   "metadata": {},
   "outputs": [],
   "source": [
    "res_summary = res.summary()"
   ]
  },
  {
   "cell_type": "code",
   "execution_count": 18,
   "metadata": {},
   "outputs": [
    {
     "name": "stdout",
     "output_type": "stream",
     "text": [
      "                               SARIMAX Results                                \n",
      "==============================================================================\n",
      "Dep. Variable:                  sales   No. Observations:                   60\n",
      "Model:                 ARIMA(1, 1, 2)   Log Likelihood                -750.023\n",
      "Date:                Tue, 15 Aug 2023   AIC                           1508.046\n",
      "Time:                        19:51:38   BIC                           1516.356\n",
      "Sample:                             0   HQIC                          1511.290\n",
      "                                 - 60                                         \n",
      "Covariance Type:                  opg                                         \n",
      "==============================================================================\n",
      "                 coef    std err          z      P>|z|      [0.025      0.975]\n",
      "------------------------------------------------------------------------------\n",
      "ar.L1         -0.9998      0.001  -1039.436      0.000      -1.002      -0.998\n",
      "ma.L1          1.9418      0.274      7.098      0.000       1.406       2.478\n",
      "ma.L2          0.9490      0.271      3.500      0.000       0.418       1.480\n",
      "sigma2      7.661e+09   1.18e-11   6.51e+20      0.000    7.66e+09    7.66e+09\n",
      "===================================================================================\n",
      "Ljung-Box (L1) (Q):                   0.13   Jarque-Bera (JB):                 1.55\n",
      "Prob(Q):                              0.72   Prob(JB):                         0.46\n",
      "Heteroskedasticity (H):               0.87   Skew:                            -0.07\n",
      "Prob(H) (two-sided):                  0.77   Kurtosis:                         2.22\n",
      "===================================================================================\n",
      "\n",
      "Warnings:\n",
      "[1] Covariance matrix calculated using the outer product of gradients (complex-step).\n",
      "[2] Covariance matrix is singular or near-singular, with condition number 5.43e+36. Standard errors may be unstable.\n"
     ]
    }
   ],
   "source": [
    "print(res_summary)"
   ]
  },
  {
   "cell_type": "code",
   "execution_count": null,
   "metadata": {},
   "outputs": [],
   "source": []
  }
 ],
 "metadata": {
  "kernelspec": {
   "display_name": "Python 3",
   "language": "python",
   "name": "python3"
  },
  "language_info": {
   "codemirror_mode": {
    "name": "ipython",
    "version": 3
   },
   "file_extension": ".py",
   "mimetype": "text/x-python",
   "name": "python",
   "nbconvert_exporter": "python",
   "pygments_lexer": "ipython3",
   "version": "3.11.2"
  },
  "orig_nbformat": 4
 },
 "nbformat": 4,
 "nbformat_minor": 2
}
